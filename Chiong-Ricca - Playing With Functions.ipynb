{
 "cells": [
  {
   "cell_type": "markdown",
   "metadata": {},
   "source": [
    "191130 \n",
    "CHIONG \n",
    "2 BS ITE"
   ]
  },
  {
   "cell_type": "code",
   "execution_count": 5,
   "metadata": {},
   "outputs": [
    {
     "name": "stdout",
     "output_type": "stream",
     "text": [
      "Enter circumference of the circle: 25\n"
     ]
    },
    {
     "data": {
      "text/plain": [
       "49.735803412274"
      ]
     },
     "execution_count": 5,
     "metadata": {},
     "output_type": "execute_result"
    }
   ],
   "source": [
    "#1\n",
    "\n",
    "pi=3.1416\n",
    "def convert(y):\n",
    "    result=(y**2)/(4*pi)\n",
    "    return result\n",
    "\n",
    "(convert(float(input(\"Enter circumference of the circle: \"))))"
   ]
  },
  {
   "cell_type": "code",
   "execution_count": 1,
   "metadata": {},
   "outputs": [
    {
     "name": "stdout",
     "output_type": "stream",
     "text": [
      "Enter a five-character string: Hello\n",
      "olleH\n"
     ]
    }
   ],
   "source": [
    "#2\n",
    "\n",
    "def flip(x):\n",
    "    return x[::-1]\n",
    "\n",
    "print(flip(str(input(\"Enter a five-character string: \"))))"
   ]
  },
  {
   "cell_type": "code",
   "execution_count": 3,
   "metadata": {},
   "outputs": [
    {
     "name": "stdout",
     "output_type": "stream",
     "text": [
      "Enter a positive integer: 5\n",
      "15\n"
     ]
    }
   ],
   "source": [
    "#3\n",
    "\n",
    "def back_add(x):\n",
    "    i = 0\n",
    "    result = []\n",
    "    while i <= x:\n",
    "        result.append(i)\n",
    "        i+=1\n",
    "    back_add = sum(result)\n",
    "    return back_add\n",
    "\n",
    "print(back_add(int(input(\"Enter a positive integer: \"))))\n"
   ]
  },
  {
   "cell_type": "code",
   "execution_count": 4,
   "metadata": {},
   "outputs": [
    {
     "name": "stdout",
     "output_type": "stream",
     "text": [
      "25164150\n"
     ]
    }
   ],
   "source": [
    "#4\n",
    "\n",
    "sum_of_square=0\n",
    "square=0\n",
    "\n",
    "for num in range(100): \n",
    "    sum_of_square = sum_of_square + (num+1)**2\n",
    "    square = square + num + 1\n",
    "    \n",
    "square = square**2\n",
    "\n",
    "print(square-sum_of_square)\n",
    "\n"
   ]
  },
  {
   "cell_type": "code",
   "execution_count": 2,
   "metadata": {
    "scrolled": true
   },
   "outputs": [
    {
     "name": "stdout",
     "output_type": "stream",
     "text": [
      "Enter amount: 105\n",
      "1\n",
      "0\n",
      "0\n",
      "1\n",
      "0\n"
     ]
    }
   ],
   "source": [
    "#5\n",
    "\n",
    "def cents(x):\n",
    "    n = [100, 25, 10, 5, 1]\n",
    "    for num in range(5):\n",
    "        result = x//n[num]\n",
    "        print(result)\n",
    "        x = x - result*n[num]\n",
    "\n",
    "\n",
    "cents(int(input(\"Enter amount: \")))"
   ]
  },
  {
   "cell_type": "code",
   "execution_count": null,
   "metadata": {},
   "outputs": [],
   "source": []
  }
 ],
 "metadata": {
  "kernelspec": {
   "display_name": "Python 3",
   "language": "python",
   "name": "python3"
  },
  "language_info": {
   "codemirror_mode": {
    "name": "ipython",
    "version": 3
   },
   "file_extension": ".py",
   "mimetype": "text/x-python",
   "name": "python",
   "nbconvert_exporter": "python",
   "pygments_lexer": "ipython3",
   "version": "3.8.3"
  }
 },
 "nbformat": 4,
 "nbformat_minor": 4
}
